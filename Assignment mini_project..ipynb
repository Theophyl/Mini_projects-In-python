{
 "cells": [
  {
   "cell_type": "markdown",
   "id": "fc686ae9",
   "metadata": {},
   "source": [
    "## DSM 2022 - Assignment_1  - Theophilus Yao Dortumor"
   ]
  },
  {
   "cell_type": "code",
   "execution_count": 2,
   "id": "62cb6fea",
   "metadata": {},
   "outputs": [],
   "source": [
    "# importing libraries \n",
    "import numpy as np\n",
    "import pandas as pd\n",
    "import matplotlib.pyplot as plt\n",
    "#import random.seed(123)\n",
    "import warnings\n",
    "#import warnings.filterwarning('IGNORE')"
   ]
  },
  {
   "cell_type": "markdown",
   "id": "ab4d6676",
   "metadata": {},
   "source": [
    "## Question 1"
   ]
  },
  {
   "cell_type": "code",
   "execution_count": 3,
   "id": "84cb250b",
   "metadata": {},
   "outputs": [
    {
     "name": "stdout",
     "output_type": "stream",
     "text": [
      "Enter the your total number of hours per week: 50\n",
      "Enter your base salary per week: $1800\n",
      "Your overtime pay for the week is: $500.00\n"
     ]
    }
   ],
   "source": [
    "# calculating overtime pay per week\n",
    "\n",
    "# standard inputs for calculation\n",
    "std_hrs_per_week = 40 \n",
    "wage_per_hour = 45\n",
    "overtime_wage_per_hour = 50\n",
    "\n",
    "# creating user inputs required for computing user's overtime\n",
    "total_hrs_per_week = float(input('Enter the your total number of hours per week: '))\n",
    "base_salary = float(input('Enter your base salary per week: $'))\n",
    "\n",
    "# function to compute the overtime pay\n",
    "def overtime (total_hrs_per_week, std_hrs_per_week):\n",
    "    overtime_hours = total_hrs_per_week - std_hrs_per_week\n",
    "    overtime_pay = overtime_hours*overtime_wage_per_hour\n",
    "    print('Your overtime pay for the week is: ${:.2f}'.format(overtime_pay))\n",
    "\n",
    "\n",
    "overtime(total_hrs_per_week, std_hrs_per_week)"
   ]
  },
  {
   "cell_type": "markdown",
   "id": "dcbb193e",
   "metadata": {},
   "source": [
    "## Question 2"
   ]
  },
  {
   "cell_type": "code",
   "execution_count": 4,
   "id": "da651412",
   "metadata": {
    "scrolled": true
   },
   "outputs": [
    {
     "name": "stdout",
     "output_type": "stream",
     "text": [
      "enter your number 25\n",
      "enter your number 23\n",
      "enter your number 10\n",
      "enter your number 14\n",
      "enter your number 11\n",
      "enter your number 8\n",
      "enter your number 6\n",
      "enter your number 2\n",
      "enter your number 4\n",
      "enter your number 21\n",
      "Final list  [2.0, 4.0, 6.0, 8.0, 10.0, 11.0, 14.0, 21.0, 23.0, 25.0]\n"
     ]
    }
   ],
   "source": [
    "#creating list of ten values with user inputs \n",
    "\n",
    "mylist1 = []\n",
    "\n",
    "while len(mylist1) < 10:\n",
    "    num = float(input('enter your number '))\n",
    "    mylist1.append(num)\n",
    "    mylist1 = sorted(mylist1)\n",
    "    \n",
    "print('Final list ', mylist1)"
   ]
  },
  {
   "cell_type": "code",
   "execution_count": 5,
   "id": "3f3531ea",
   "metadata": {},
   "outputs": [
    {
     "data": {
      "text/plain": [
       "[2.0, 4.0, 6.0, 8.0, 10.0, 11.0, 14.0, 21.0, 23.0, 25.0]"
      ]
     },
     "execution_count": 5,
     "metadata": {},
     "output_type": "execute_result"
    }
   ],
   "source": [
    "# recreating list using list comprehension\n",
    "mylist2 = [item for item in mylist1]\n",
    "sorted(mylist2)"
   ]
  },
  {
   "cell_type": "markdown",
   "id": "d51602a0",
   "metadata": {},
   "source": [
    "## Question 3"
   ]
  },
  {
   "cell_type": "code",
   "execution_count": 6,
   "id": "47661428",
   "metadata": {
    "scrolled": false
   },
   "outputs": [
    {
     "name": "stdout",
     "output_type": "stream",
     "text": [
      "Original dictionary\n",
      "=======================================\n",
      "{'School': 'MTSU', 'Textbooks': 14, 'Level': 'Elementary', 'Hobby': 'Dancing', 'Height': '4.5inch', 'Food': 'Amala'}\n",
      "\n",
      "\n",
      "Dictionary updated with my credentials\n",
      "=======================================\n",
      "{'School': 'UCC', 'Textbooks': 16, 'Level': 'Graduate', 'Hobby': 'Reading', 'Height': '4.2inch', 'Food': 'Banku'}\n",
      "\n",
      "\n",
      "Dictionary updated with new key-value pairs\n",
      "============================================\n",
      "{'School': 'UCC', 'Textbooks': 16, 'Level': 'Graduate', 'Hobby': 'Reading', 'Height': '4.2inch', 'Food': 'Banku', 'Is_location_USA': True, 'Is_Married': 'No'}\n",
      "\n",
      "\n",
      "Dictionary after removing Hobby\n",
      "============================================\n",
      "{'School': 'UCC', 'Textbooks': 16, 'Level': 'Graduate', 'Height': '4.2inch', 'Food': 'Banku', 'Is_location_USA': True, 'Is_Married': 'No'}\n",
      "\n",
      "\n",
      "Dictionary deleting last entry\n",
      "============================================\n",
      "{'School': 'UCC', 'Textbooks': 16, 'Level': 'Graduate', 'Height': '4.2inch', 'Food': 'Banku', 'Is_location_USA': True}\n"
     ]
    }
   ],
   "source": [
    "# creating a new dictionary \n",
    "my_dict1 = {'School':'MTSU','Textbooks':14,'Level':'Elementary','Hobby':'Dancing', 'Height':'4.5inch', 'Food':'Amala'}\n",
    "print('Original dictionary')\n",
    "print('=======================================')\n",
    "print(my_dict1)\n",
    "\n",
    "\n",
    "#updating dictionary with my credentials\n",
    "my_credential = {'School':'UCC', 'Textbooks': 16, 'Level': 'Graduate', 'Hobby':'Reading', 'Height':'4.2inch', 'Food':'Banku'}\n",
    "my_dict1.update(my_credential)\n",
    "print()\n",
    "print()\n",
    "print('Dictionary updated with my credentials')\n",
    "print('=======================================')\n",
    "print(my_dict1)\n",
    "\n",
    "#updating dictionary with new pair\n",
    "new_pair = {'Is_location_USA': True, 'Is_Married': 'No'}\n",
    "my_dict1.update(new_pair)\n",
    "print()\n",
    "print()\n",
    "print('Dictionary updated with new key-value pairs')\n",
    "print('============================================')\n",
    "print(my_dict1)\n",
    "\n",
    "# removing 'Hobby':'Dancing' key-value pair\n",
    "my_dict1.pop('Hobby')\n",
    "print()\n",
    "print()\n",
    "print('Dictionary after removing Hobby')\n",
    "print('============================================')\n",
    "print(my_dict1)\n",
    "\n",
    "#deleting last entry of updated dictionary\n",
    "my_dict1.popitem()\n",
    "print()\n",
    "print()\n",
    "print('Dictionary deleting last entry')\n",
    "print('============================================')\n",
    "print(my_dict1)"
   ]
  },
  {
   "cell_type": "markdown",
   "id": "22936806",
   "metadata": {},
   "source": [
    "## Question 4\n",
    "\n"
   ]
  },
  {
   "cell_type": "code",
   "execution_count": 7,
   "id": "37078dbd",
   "metadata": {},
   "outputs": [
    {
     "data": {
      "text/plain": [
       "array([[1., 1., 1., 1., 1., 1., 1., 1., 1., 1., 1.],\n",
       "       [1., 1., 1., 1., 1., 1., 1., 1., 1., 1., 1.],\n",
       "       [1., 1., 1., 1., 1., 1., 1., 1., 1., 1., 1.],\n",
       "       [1., 1., 1., 1., 1., 1., 1., 1., 1., 1., 1.],\n",
       "       [1., 1., 1., 1., 1., 1., 1., 1., 1., 1., 1.],\n",
       "       [1., 1., 1., 1., 1., 1., 1., 1., 1., 1., 1.],\n",
       "       [1., 1., 1., 1., 1., 1., 1., 1., 1., 1., 1.],\n",
       "       [1., 1., 1., 1., 1., 1., 1., 1., 1., 1., 1.],\n",
       "       [1., 1., 1., 1., 1., 1., 1., 1., 1., 1., 1.],\n",
       "       [1., 1., 1., 1., 1., 1., 1., 1., 1., 1., 1.],\n",
       "       [1., 1., 1., 1., 1., 1., 1., 1., 1., 1., 1.],\n",
       "       [1., 1., 1., 1., 1., 1., 1., 1., 1., 1., 1.],\n",
       "       [1., 1., 1., 1., 1., 1., 1., 1., 1., 1., 1.],\n",
       "       [1., 1., 1., 1., 1., 1., 1., 1., 1., 1., 1.],\n",
       "       [1., 1., 1., 1., 1., 1., 1., 1., 1., 1., 1.],\n",
       "       [1., 1., 1., 1., 1., 1., 1., 1., 1., 1., 1.],\n",
       "       [1., 1., 1., 1., 1., 1., 1., 1., 1., 1., 1.],\n",
       "       [1., 1., 1., 1., 1., 1., 1., 1., 1., 1., 1.],\n",
       "       [1., 1., 1., 1., 1., 1., 1., 1., 1., 1., 1.],\n",
       "       [1., 1., 1., 1., 1., 1., 1., 1., 1., 1., 1.]])"
      ]
     },
     "execution_count": 7,
     "metadata": {},
     "output_type": "execute_result"
    }
   ],
   "source": [
    "# creating a 20 by 11 array of ones\n",
    "myarray1 = np.ones((20,11), dtype = float)\n",
    "myarray1"
   ]
  },
  {
   "cell_type": "code",
   "execution_count": 8,
   "id": "71912ea3",
   "metadata": {},
   "outputs": [
    {
     "data": {
      "text/plain": [
       "array([[0.5, 0.5, 0.5, 0.5, 0.5, 0.5, 0.5, 0.5, 0.5, 0.5, 0.5],\n",
       "       [0.5, 0.5, 0.5, 0.5, 0.5, 0.5, 0.5, 0.5, 0.5, 0.5, 0.5],\n",
       "       [0.5, 0.5, 0.5, 0.5, 0.5, 0.5, 0.5, 0.5, 0.5, 0.5, 0.5],\n",
       "       [0.5, 0.5, 0.5, 0.5, 0.5, 0.5, 0.5, 0.5, 0.5, 0.5, 0.5],\n",
       "       [0.5, 0.5, 0.5, 0.5, 0.5, 0.5, 0.5, 0.5, 0.5, 0.5, 0.5],\n",
       "       [0.5, 0.5, 0.5, 0.5, 0.5, 0.5, 0.5, 0.5, 0.5, 0.5, 0.5],\n",
       "       [0.5, 0.5, 0.5, 0.5, 0.5, 0.5, 0.5, 0.5, 0.5, 0.5, 0.5],\n",
       "       [0.5, 0.5, 0.5, 0.5, 0.5, 0.5, 0.5, 0.5, 0.5, 0.5, 0.5],\n",
       "       [0.5, 0.5, 0.5, 0.5, 0.5, 0.5, 0.5, 0.5, 0.5, 0.5, 0.5],\n",
       "       [0.5, 0.5, 0.5, 0.5, 0.5, 0.5, 0.5, 0.5, 0.5, 0.5, 0.5],\n",
       "       [0.5, 0.5, 0.5, 0.5, 0.5, 0.5, 0.5, 0.5, 0.5, 0.5, 0.5],\n",
       "       [0.5, 0.5, 0.5, 0.5, 0.5, 0.5, 0.5, 0.5, 0.5, 0.5, 0.5],\n",
       "       [0.5, 0.5, 0.5, 0.5, 0.5, 0.5, 0.5, 0.5, 0.5, 0.5, 0.5],\n",
       "       [0.5, 0.5, 0.5, 0.5, 0.5, 0.5, 0.5, 0.5, 0.5, 0.5, 0.5],\n",
       "       [0.5, 0.5, 0.5, 0.5, 0.5, 0.5, 0.5, 0.5, 0.5, 0.5, 0.5],\n",
       "       [0.5, 0.5, 0.5, 0.5, 0.5, 0.5, 0.5, 0.5, 0.5, 0.5, 0.5],\n",
       "       [0.5, 0.5, 0.5, 0.5, 0.5, 0.5, 0.5, 0.5, 0.5, 0.5, 0.5],\n",
       "       [0.5, 0.5, 0.5, 0.5, 0.5, 0.5, 0.5, 0.5, 0.5, 0.5, 0.5],\n",
       "       [0.5, 0.5, 0.5, 0.5, 0.5, 0.5, 0.5, 0.5, 0.5, 0.5, 0.5],\n",
       "       [0.5, 0.5, 0.5, 0.5, 0.5, 0.5, 0.5, 0.5, 0.5, 0.5, 0.5]])"
      ]
     },
     "execution_count": 8,
     "metadata": {},
     "output_type": "execute_result"
    }
   ],
   "source": [
    "# multiplying myarray1 by a scalar of 0.5\n",
    "myarray1=myarray1*0.5\n",
    "myarray1"
   ]
  },
  {
   "cell_type": "code",
   "execution_count": 9,
   "id": "1ec35752",
   "metadata": {},
   "outputs": [
    {
     "data": {
      "text/plain": [
       "array([[ 0.5,  0.5,  0.5,  0.5,  0.5,  0.5,  0.5,  0.5,  0.5,  0.5,  0.5],\n",
       "       [ 0.5,  0.5,  0.5,  0.5,  0.5,  0.5,  0.5,  0.5,  0.5,  0.5,  0.5],\n",
       "       [ 0.5,  0.5,  0.5,  0.5,  0.5,  0.5,  0.5,  0.5,  0.5,  0.5,  0.5],\n",
       "       [ 0.5,  0.5,  0.5,  0.5,  0.5,  0.5,  0.5,  0.5,  0.5,  0.5,  0.5],\n",
       "       [ 0.5,  0.5,  0.5,  0.5,  0.5,  0.5,  0.5,  0.5,  0.5,  0.5,  0.5],\n",
       "       [10.5, 10.5, 10.5, 10.5, 10.5, 10.5, 10.5, 10.5, 10.5, 10.5, 10.5],\n",
       "       [ 0.5,  0.5,  0.5,  0.5,  0.5,  0.5,  0.5,  0.5,  0.5,  0.5,  0.5],\n",
       "       [ 0.5,  0.5,  0.5,  0.5,  0.5,  0.5,  0.5,  0.5,  0.5,  0.5,  0.5],\n",
       "       [ 0.5,  0.5,  0.5,  0.5,  0.5,  0.5,  0.5,  0.5,  0.5,  0.5,  0.5],\n",
       "       [ 0.5,  0.5,  0.5,  0.5,  0.5,  0.5,  0.5,  0.5,  0.5,  0.5,  0.5],\n",
       "       [ 0.5,  0.5,  0.5,  0.5,  0.5,  0.5,  0.5,  0.5,  0.5,  0.5,  0.5],\n",
       "       [ 0.5,  0.5,  0.5,  0.5,  0.5,  0.5,  0.5,  0.5,  0.5,  0.5,  0.5],\n",
       "       [ 0.5,  0.5,  0.5,  0.5,  0.5,  0.5,  0.5,  0.5,  0.5,  0.5,  0.5],\n",
       "       [ 0.5,  0.5,  0.5,  0.5,  0.5,  0.5,  0.5,  0.5,  0.5,  0.5,  0.5],\n",
       "       [ 0.5,  0.5,  0.5,  0.5,  0.5,  0.5,  0.5,  0.5,  0.5,  0.5,  0.5],\n",
       "       [ 0.5,  0.5,  0.5,  0.5,  0.5,  0.5,  0.5,  0.5,  0.5,  0.5,  0.5],\n",
       "       [ 0.5,  0.5,  0.5,  0.5,  0.5,  0.5,  0.5,  0.5,  0.5,  0.5,  0.5],\n",
       "       [ 0.5,  0.5,  0.5,  0.5,  0.5,  0.5,  0.5,  0.5,  0.5,  0.5,  0.5],\n",
       "       [ 0.5,  0.5,  0.5,  0.5,  0.5,  0.5,  0.5,  0.5,  0.5,  0.5,  0.5],\n",
       "       [ 0.5,  0.5,  0.5,  0.5,  0.5,  0.5,  0.5,  0.5,  0.5,  0.5,  0.5]])"
      ]
     },
     "execution_count": 9,
     "metadata": {},
     "output_type": "execute_result"
    }
   ],
   "source": [
    "# updating the 6th row with 10.5\n",
    "myarray1[5, :] = 10.5\n",
    "myarray1"
   ]
  },
  {
   "cell_type": "code",
   "execution_count": 10,
   "id": "9cf4b9bb",
   "metadata": {},
   "outputs": [
    {
     "data": {
      "text/plain": [
       "array([[ 0.5,  0.5,  0.5,  0.5,  0.5,  0.5,  0.5,  0.5,  0.5,  0.5,  0.5],\n",
       "       [ 0.5,  0.5,  0.5,  0.5,  0.5,  0.5,  0.5,  0.5,  0.5,  0.5,  0.5],\n",
       "       [ 0.5,  0.5,  0.5,  0.5,  0.5,  0.5,  0.5,  0.5,  0.5,  0.5,  0.5],\n",
       "       [ 0.5,  0.5,  0.5,  0.5,  0.5,  0.5,  0.5,  0.5,  0.5,  0.5,  0.5],\n",
       "       [ 0.5,  0.5,  0.5,  0.5,  0.5,  0.5,  0.5,  0.5,  0.5,  0.5,  0.5],\n",
       "       [10.5, 10.5, 10.5, 10.5, 10.5, 10.5, 10.5, 10.5, 10.5, 10.5, 10.5],\n",
       "       [11.5, 11.5, 11.5, 11.5, 11.5, 11.5, 11.5, 11.5, 11.5, 11.5, 11.5],\n",
       "       [ 0.5,  0.5,  0.5,  0.5,  0.5,  0.5,  0.5,  0.5,  0.5,  0.5,  0.5],\n",
       "       [ 0.5,  0.5,  0.5,  0.5,  0.5,  0.5,  0.5,  0.5,  0.5,  0.5,  0.5],\n",
       "       [ 0.5,  0.5,  0.5,  0.5,  0.5,  0.5,  0.5,  0.5,  0.5,  0.5,  0.5],\n",
       "       [ 0.5,  0.5,  0.5,  0.5,  0.5,  0.5,  0.5,  0.5,  0.5,  0.5,  0.5],\n",
       "       [ 0.5,  0.5,  0.5,  0.5,  0.5,  0.5,  0.5,  0.5,  0.5,  0.5,  0.5],\n",
       "       [ 0.5,  0.5,  0.5,  0.5,  0.5,  0.5,  0.5,  0.5,  0.5,  0.5,  0.5],\n",
       "       [ 0.5,  0.5,  0.5,  0.5,  0.5,  0.5,  0.5,  0.5,  0.5,  0.5,  0.5],\n",
       "       [ 0.5,  0.5,  0.5,  0.5,  0.5,  0.5,  0.5,  0.5,  0.5,  0.5,  0.5],\n",
       "       [ 0.5,  0.5,  0.5,  0.5,  0.5,  0.5,  0.5,  0.5,  0.5,  0.5,  0.5],\n",
       "       [ 0.5,  0.5,  0.5,  0.5,  0.5,  0.5,  0.5,  0.5,  0.5,  0.5,  0.5],\n",
       "       [ 0.5,  0.5,  0.5,  0.5,  0.5,  0.5,  0.5,  0.5,  0.5,  0.5,  0.5],\n",
       "       [ 0.5,  0.5,  0.5,  0.5,  0.5,  0.5,  0.5,  0.5,  0.5,  0.5,  0.5],\n",
       "       [ 0.5,  0.5,  0.5,  0.5,  0.5,  0.5,  0.5,  0.5,  0.5,  0.5,  0.5]])"
      ]
     },
     "execution_count": 10,
     "metadata": {},
     "output_type": "execute_result"
    }
   ],
   "source": [
    "#updaating the 7th row with 11.5\n",
    "myarray1[6,:] = 11.5\n",
    "myarray1"
   ]
  },
  {
   "cell_type": "code",
   "execution_count": 11,
   "id": "fbd09154",
   "metadata": {},
   "outputs": [
    {
     "data": {
      "text/plain": [
       "array([[ 9.5,  0.5,  0.5,  0.5,  0.5,  0.5,  0.5,  0.5,  0.5,  0.5,  0.5],\n",
       "       [ 9.5,  0.5,  0.5,  0.5,  0.5,  0.5,  0.5,  0.5,  0.5,  0.5,  0.5],\n",
       "       [ 9.5,  0.5,  0.5,  0.5,  0.5,  0.5,  0.5,  0.5,  0.5,  0.5,  0.5],\n",
       "       [ 9.5,  0.5,  0.5,  0.5,  0.5,  0.5,  0.5,  0.5,  0.5,  0.5,  0.5],\n",
       "       [ 9.5,  0.5,  0.5,  0.5,  0.5,  0.5,  0.5,  0.5,  0.5,  0.5,  0.5],\n",
       "       [ 9.5, 10.5, 10.5, 10.5, 10.5, 10.5, 10.5, 10.5, 10.5, 10.5, 10.5],\n",
       "       [ 9.5, 11.5, 11.5, 11.5, 11.5, 11.5, 11.5, 11.5, 11.5, 11.5, 11.5],\n",
       "       [ 9.5,  0.5,  0.5,  0.5,  0.5,  0.5,  0.5,  0.5,  0.5,  0.5,  0.5],\n",
       "       [ 9.5,  0.5,  0.5,  0.5,  0.5,  0.5,  0.5,  0.5,  0.5,  0.5,  0.5],\n",
       "       [ 9.5,  0.5,  0.5,  0.5,  0.5,  0.5,  0.5,  0.5,  0.5,  0.5,  0.5],\n",
       "       [ 9.5,  0.5,  0.5,  0.5,  0.5,  0.5,  0.5,  0.5,  0.5,  0.5,  0.5],\n",
       "       [ 9.5,  0.5,  0.5,  0.5,  0.5,  0.5,  0.5,  0.5,  0.5,  0.5,  0.5],\n",
       "       [ 9.5,  0.5,  0.5,  0.5,  0.5,  0.5,  0.5,  0.5,  0.5,  0.5,  0.5],\n",
       "       [ 9.5,  0.5,  0.5,  0.5,  0.5,  0.5,  0.5,  0.5,  0.5,  0.5,  0.5],\n",
       "       [ 9.5,  0.5,  0.5,  0.5,  0.5,  0.5,  0.5,  0.5,  0.5,  0.5,  0.5],\n",
       "       [ 9.5,  0.5,  0.5,  0.5,  0.5,  0.5,  0.5,  0.5,  0.5,  0.5,  0.5],\n",
       "       [ 9.5,  0.5,  0.5,  0.5,  0.5,  0.5,  0.5,  0.5,  0.5,  0.5,  0.5],\n",
       "       [ 9.5,  0.5,  0.5,  0.5,  0.5,  0.5,  0.5,  0.5,  0.5,  0.5,  0.5],\n",
       "       [ 9.5,  0.5,  0.5,  0.5,  0.5,  0.5,  0.5,  0.5,  0.5,  0.5,  0.5],\n",
       "       [ 9.5,  0.5,  0.5,  0.5,  0.5,  0.5,  0.5,  0.5,  0.5,  0.5,  0.5]])"
      ]
     },
     "execution_count": 11,
     "metadata": {},
     "output_type": "execute_result"
    }
   ],
   "source": [
    "# updating the first row with 9.5\n",
    "myarray1[:, 0] = 9.5\n",
    "myarray1"
   ]
  },
  {
   "cell_type": "code",
   "execution_count": 12,
   "id": "f255585e",
   "metadata": {},
   "outputs": [
    {
     "data": {
      "text/plain": [
       "array([[ 9.5,  0.5,  0.5,  0.5,  0.5,  0.5,  0.5,  0.5,  0.5,  0.5,  0.5],\n",
       "       [ 9.5, 10.5, 10.5, 10.5, 10.5, 10.5, 10.5, 10.5, 10.5, 10.5, 10.5],\n",
       "       [ 9.5, 11.5, 11.5, 11.5, 11.5, 11.5, 11.5, 11.5, 11.5, 11.5, 11.5],\n",
       "       [ 9.5,  0.5,  0.5,  0.5,  0.5,  0.5,  0.5,  0.5,  0.5,  0.5,  0.5],\n",
       "       [ 9.5,  0.5,  0.5,  0.5,  0.5,  0.5,  0.5,  0.5,  0.5,  0.5,  0.5],\n",
       "       [ 9.5,  0.5,  0.5,  0.5,  0.5,  0.5,  0.5,  0.5,  0.5,  0.5,  0.5],\n",
       "       [ 9.5,  0.5,  0.5,  0.5,  0.5,  0.5,  0.5,  0.5,  0.5,  0.5,  0.5]])"
      ]
     },
     "execution_count": 12,
     "metadata": {},
     "output_type": "execute_result"
    }
   ],
   "source": [
    "# slicing 5th to 11th row\n",
    "myarray1[4:11, :]"
   ]
  },
  {
   "cell_type": "code",
   "execution_count": 13,
   "id": "4cbf8f0c",
   "metadata": {},
   "outputs": [
    {
     "data": {
      "text/plain": [
       "array([[ 0.5,  0.5,  0.5,  0.5],\n",
       "       [ 0.5,  0.5,  0.5,  0.5],\n",
       "       [ 0.5,  0.5,  0.5,  0.5],\n",
       "       [ 0.5,  0.5,  0.5,  0.5],\n",
       "       [ 0.5,  0.5,  0.5,  0.5],\n",
       "       [10.5, 10.5, 10.5, 10.5],\n",
       "       [11.5, 11.5, 11.5, 11.5],\n",
       "       [ 0.5,  0.5,  0.5,  0.5],\n",
       "       [ 0.5,  0.5,  0.5,  0.5],\n",
       "       [ 0.5,  0.5,  0.5,  0.5],\n",
       "       [ 0.5,  0.5,  0.5,  0.5],\n",
       "       [ 0.5,  0.5,  0.5,  0.5],\n",
       "       [ 0.5,  0.5,  0.5,  0.5],\n",
       "       [ 0.5,  0.5,  0.5,  0.5],\n",
       "       [ 0.5,  0.5,  0.5,  0.5],\n",
       "       [ 0.5,  0.5,  0.5,  0.5],\n",
       "       [ 0.5,  0.5,  0.5,  0.5],\n",
       "       [ 0.5,  0.5,  0.5,  0.5],\n",
       "       [ 0.5,  0.5,  0.5,  0.5],\n",
       "       [ 0.5,  0.5,  0.5,  0.5]])"
      ]
     },
     "execution_count": 13,
     "metadata": {},
     "output_type": "execute_result"
    }
   ],
   "source": [
    "# slicing 6th to 9th column\n",
    "myarray1[:, 5:9]\n"
   ]
  },
  {
   "cell_type": "code",
   "execution_count": 14,
   "id": "99619998",
   "metadata": {},
   "outputs": [
    {
     "data": {
      "text/plain": [
       "array([ 0.5,  0.5,  0.5,  0.5,  0.5, 10.5, 11.5,  0.5,  0.5,  0.5,  0.5,\n",
       "        0.5,  0.5,  0.5,  0.5,  0.5,  0.5,  0.5,  0.5,  0.5,  0.5,  0.5,\n",
       "        0.5,  0.5,  0.5, 10.5, 11.5,  0.5,  0.5,  0.5,  0.5,  0.5,  0.5,\n",
       "        0.5,  0.5,  0.5,  0.5,  0.5,  0.5,  0.5])"
      ]
     },
     "execution_count": 14,
     "metadata": {},
     "output_type": "execute_result"
    }
   ],
   "source": [
    "# Merge the 6th column with 8th column using np.hstack\n",
    "np.hstack([myarray1[:, 5],myarray1[:, 7]])"
   ]
  },
  {
   "cell_type": "code",
   "execution_count": 15,
   "id": "3b917bcd",
   "metadata": {},
   "outputs": [
    {
     "data": {
      "text/plain": [
       "array([[ 0.5,  0.5,  0.5,  0.5,  0.5, 10.5, 11.5,  0.5,  0.5,  0.5,  0.5,\n",
       "         0.5,  0.5,  0.5,  0.5,  0.5,  0.5,  0.5,  0.5,  0.5],\n",
       "       [ 0.5,  0.5,  0.5,  0.5,  0.5, 10.5, 11.5,  0.5,  0.5,  0.5,  0.5,\n",
       "         0.5,  0.5,  0.5,  0.5,  0.5,  0.5,  0.5,  0.5,  0.5]])"
      ]
     },
     "execution_count": 15,
     "metadata": {},
     "output_type": "execute_result"
    }
   ],
   "source": [
    "# Merge the 5th column with 10th column using np.vstack\n",
    "np.vstack([myarray1[:, 4],myarray1[:, 9]])"
   ]
  },
  {
   "cell_type": "code",
   "execution_count": 23,
   "id": "e73ec054",
   "metadata": {},
   "outputs": [
    {
     "name": "stdout",
     "output_type": "stream",
     "text": [
      "Note: you may need to restart the kernel to use updated packages.\n"
     ]
    },
    {
     "name": "stderr",
     "output_type": "stream",
     "text": [
      "ERROR: Could not find a version that satisfies the requirement XeLaTex (from versions: none)\n",
      "ERROR: No matching distribution found for XeLaTex\n"
     ]
    }
   ],
   "source": []
  },
  {
   "cell_type": "code",
   "execution_count": null,
   "id": "7d6abdd7",
   "metadata": {},
   "outputs": [],
   "source": []
  }
 ],
 "metadata": {
  "kernelspec": {
   "display_name": "Python 3 (ipykernel)",
   "language": "python",
   "name": "python3"
  },
  "language_info": {
   "codemirror_mode": {
    "name": "ipython",
    "version": 3
   },
   "file_extension": ".py",
   "mimetype": "text/x-python",
   "name": "python",
   "nbconvert_exporter": "python",
   "pygments_lexer": "ipython3",
   "version": "3.8.3"
  }
 },
 "nbformat": 4,
 "nbformat_minor": 5
}
